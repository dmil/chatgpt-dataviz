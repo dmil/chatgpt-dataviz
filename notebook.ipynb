{
 "cells": [
  {
   "cell_type": "markdown",
   "metadata": {},
   "source": [
    "# Visualizing Data with ChatGPT\n",
    "\n",
    "What you see here is a **Jupyter Notebook**. It allows us to blend words and code. We use it for teaching here at Columbia Journalism School, but you can also use something like this to tell stories, or to communicate with your editors, switching back and forth between computation and narrative text.\n",
    "\n",
    "> _The notebook you're in right now is set up to allow you to use **Python** and **R** in the same notebook! **We will mostly ignore the Python parts of this notebook for now and work in R alone**, but students at Columbia Journalism School in the Data M.S. program do learn both languages so that they can use different tools for different jobs. We try to focus more on computational thinking rather than specific tools so that you will hopefully build a skillset that will allow you to pick up whatever the new tool is a few years from now!_\n",
    "\n",
    "Please read the instructions in each section below before runing the code."
   ]
  },
  {
   "cell_type": "markdown",
   "metadata": {},
   "source": [
    "## Setup\n",
    "\n",
    "Run the cells in this section to setup the notebook. \n",
    "\n",
    "> _Press the \"play\" button to the left of the cell to run each cell indvidually or click on the cell and press shift+enter_"
   ]
  },
  {
   "cell_type": "markdown",
   "metadata": {},
   "source": [
    "load python packages"
   ]
  },
  {
   "cell_type": "code",
   "execution_count": null,
   "metadata": {},
   "outputs": [],
   "source": [
    "%load_ext rpy2.ipython\n",
    "%load_ext autoreload\n",
    "%autoreload 2\n",
    "\n",
    "%matplotlib inline  \n",
    "from matplotlib import rcParams\n",
    "rcParams['figure.figsize'] = (16, 100)\n",
    "\n",
    "import warnings\n",
    "from rpy2.rinterface import RRuntimeWarning\n",
    "warnings.filterwarnings(\"ignore\") # Ignore all warnings\n",
    "# warnings.filterwarnings(\"ignore\", category=RRuntimeWarning) # Show some warnings\n",
    "\n",
    "import pandas as pd\n",
    "import numpy as np\n",
    "import matplotlib.pyplot as plt\n",
    "from IPython.display import display, HTML"
   ]
  },
  {
   "cell_type": "markdown",
   "metadata": {},
   "source": [
    "load r packages"
   ]
  },
  {
   "cell_type": "code",
   "execution_count": null,
   "metadata": {},
   "outputs": [],
   "source": [
    "%%R\n",
    "\n",
    "# tidyverse is an R package that includes ggplot2\n",
    "\n",
    "require('tidyverse')"
   ]
  },
  {
   "cell_type": "markdown",
   "metadata": {},
   "source": [
    "# How to use this notebook:"
   ]
  },
  {
   "cell_type": "markdown",
   "metadata": {},
   "source": [
    "Below is a Python cell, there is nothing at the top of the cell because it is python by default."
   ]
  },
  {
   "cell_type": "code",
   "execution_count": null,
   "metadata": {},
   "outputs": [],
   "source": [
    "# load the data\n",
    "df = pd.read_csv('ny_election_results_tidy.csv')\n",
    "df"
   ]
  },
  {
   "cell_type": "markdown",
   "metadata": {},
   "source": [
    "Below is an R cell. The `%%R` at the top of the cell indicates that the code in this cell will be R code."
   ]
  },
  {
   "cell_type": "code",
   "execution_count": null,
   "metadata": {},
   "outputs": [],
   "source": [
    "%%R \n",
    "\n",
    "df <- read.csv('ny_election_results_tidy.csv')\n",
    "\n",
    "df %>% head(10)"
   ]
  },
  {
   "cell_type": "markdown",
   "metadata": {},
   "source": [
    "## Let's Make A Plot!"
   ]
  },
  {
   "cell_type": "markdown",
   "metadata": {},
   "source": [
    "**🤖 My first prompt to ChatGPT:**\n",
    "\n",
    "I have a CSV file called `ny_election_results_tidy.csv` which contains election results for President, Senate and Governor elections in New York State by county from 1998 to 2022. It has the following columns:\n",
    "\n",
    "- year: the year the election was held\n",
    "- county: a county in New York State\n",
    "- office: Governor, Senate or President\n",
    "- nyc: whether or not the county is in New York City (\"NYC\" or \"Outside NYC\")\n",
    "- party: either Democratic, Republican or Other\n",
    "- votes: the number of votes received\n",
    "\n",
    "I want to write some ggplot code in R to visualize these election results. I want to make a column chart that shows democratic versus republican vote totals across the whole state for each election type. Can you help me?\n",
    "\n",
    "\n"
   ]
  },
  {
   "cell_type": "code",
   "execution_count": null,
   "metadata": {},
   "outputs": [],
   "source": [
    "%%R \n",
    "\n",
    "ggplot(df)"
   ]
  },
  {
   "cell_type": "code",
   "execution_count": null,
   "metadata": {},
   "outputs": [],
   "source": [
    "%%R \n",
    "\n",
    "# place R code below this comment"
   ]
  },
  {
   "cell_type": "code",
   "execution_count": null,
   "metadata": {},
   "outputs": [],
   "source": [
    "%%R \n",
    "\n",
    "# place R code below this comment"
   ]
  },
  {
   "cell_type": "code",
   "execution_count": null,
   "metadata": {},
   "outputs": [],
   "source": [
    "%%R \n",
    "\n",
    "# place R code below this comment"
   ]
  }
 ],
 "metadata": {
  "kernelspec": {
   "display_name": "Python 3 (ipykernel)",
   "language": "python",
   "name": "python3"
  },
  "language_info": {
   "codemirror_mode": {
    "name": "ipython",
    "version": 3
   },
   "file_extension": ".py",
   "mimetype": "text/x-python",
   "name": "python",
   "nbconvert_exporter": "python",
   "pygments_lexer": "ipython3",
   "version": "3.11.2"
  }
 },
 "nbformat": 4,
 "nbformat_minor": 4
}
