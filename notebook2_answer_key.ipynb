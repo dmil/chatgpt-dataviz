{
 "cells": [
  {
   "cell_type": "markdown",
   "metadata": {},
   "source": [
    "# Visualizing Data with ChatGPT\n",
    "\n",
    "What you see here is a **Jupyter Notebook**. It allows us to blend words and code. We use it for teaching here at Columbia Journalism School, but you can also use something like this to tell stories, or to communicate with your editors, switching back and forth between computation and narrative text.\n",
    "\n",
    "> _The notebook you're in right now is set up to allow you to use **Python** and **R** in the same notebook! **We will mostly ignore the Python parts of this notebook for now and work in R alone**, but students at Columbia Journalism School in the Data M.S. program do learn both languages so that they can use different tools for different jobs. We try to focus more on computational thinking rather than specific tools so that you will hopefully build a skillset that will allow you to pick up whatever the new tool is a few years from now!_\n",
    "\n",
    "Please read the instructions in each section below before runing the code."
   ]
  },
  {
   "cell_type": "markdown",
   "metadata": {},
   "source": [
    "## Setup\n",
    "\n",
    "Run the cells in this section to setup the notebook. \n",
    "\n",
    "> _Press the \"play\" button to the left of the cell to run each cell indvidually or click on the cell and press shift+enter_"
   ]
  },
  {
   "cell_type": "markdown",
   "metadata": {},
   "source": [
    "load python packages"
   ]
  },
  {
   "cell_type": "code",
   "execution_count": 53,
   "metadata": {},
   "outputs": [
    {
     "name": "stdout",
     "output_type": "stream",
     "text": [
      "The rpy2.ipython extension is already loaded. To reload it, use:\n",
      "  %reload_ext rpy2.ipython\n",
      "The autoreload extension is already loaded. To reload it, use:\n",
      "  %reload_ext autoreload\n"
     ]
    }
   ],
   "source": [
    "%load_ext rpy2.ipython\n",
    "%load_ext autoreload\n",
    "%autoreload 2\n",
    "\n",
    "%matplotlib inline  \n",
    "from matplotlib import rcParams\n",
    "rcParams['figure.figsize'] = (16, 100)\n",
    "\n",
    "import warnings\n",
    "from rpy2.rinterface import RRuntimeWarning\n",
    "warnings.filterwarnings(\"ignore\") # Ignore all warnings\n",
    "# warnings.filterwarnings(\"ignore\", category=RRuntimeWarning) # Show some warnings\n",
    "\n",
    "import pandas as pd\n",
    "import numpy as np\n",
    "import matplotlib.pyplot as plt\n",
    "from IPython.display import display, HTML"
   ]
  },
  {
   "cell_type": "markdown",
   "metadata": {},
   "source": [
    "load r packages"
   ]
  },
  {
   "cell_type": "code",
   "execution_count": 54,
   "metadata": {},
   "outputs": [],
   "source": [
    "%%R\n",
    "\n",
    "# tidyverse is an R package that includes ggplot2\n",
    "\n",
    "require('tidyverse')"
   ]
  },
  {
   "cell_type": "markdown",
   "metadata": {},
   "source": [
    "# How to use this notebook:"
   ]
  },
  {
   "cell_type": "markdown",
   "metadata": {},
   "source": [
    "Below is a Python cell, there is nothing at the top of the cell because it is python by default."
   ]
  },
  {
   "cell_type": "code",
   "execution_count": 55,
   "metadata": {},
   "outputs": [
    {
     "data": {
      "text/html": [
       "<div>\n",
       "<style scoped>\n",
       "    .dataframe tbody tr th:only-of-type {\n",
       "        vertical-align: middle;\n",
       "    }\n",
       "\n",
       "    .dataframe tbody tr th {\n",
       "        vertical-align: top;\n",
       "    }\n",
       "\n",
       "    .dataframe thead th {\n",
       "        text-align: right;\n",
       "    }\n",
       "</style>\n",
       "<table border=\"1\" class=\"dataframe\">\n",
       "  <thead>\n",
       "    <tr style=\"text-align: right;\">\n",
       "      <th></th>\n",
       "      <th>year</th>\n",
       "      <th>county</th>\n",
       "      <th>office</th>\n",
       "      <th>nyc</th>\n",
       "      <th>party</th>\n",
       "      <th>votes</th>\n",
       "    </tr>\n",
       "  </thead>\n",
       "  <tbody>\n",
       "    <tr>\n",
       "      <th>0</th>\n",
       "      <td>2022</td>\n",
       "      <td>ALBANY</td>\n",
       "      <td>Governor</td>\n",
       "      <td>Outside NYC</td>\n",
       "      <td>Republican</td>\n",
       "      <td>47545</td>\n",
       "    </tr>\n",
       "    <tr>\n",
       "      <th>1</th>\n",
       "      <td>2022</td>\n",
       "      <td>ALLEGANY</td>\n",
       "      <td>Governor</td>\n",
       "      <td>Outside NYC</td>\n",
       "      <td>Republican</td>\n",
       "      <td>11974</td>\n",
       "    </tr>\n",
       "    <tr>\n",
       "      <th>2</th>\n",
       "      <td>2022</td>\n",
       "      <td>BRONX</td>\n",
       "      <td>Governor</td>\n",
       "      <td>NYC</td>\n",
       "      <td>Republican</td>\n",
       "      <td>44948</td>\n",
       "    </tr>\n",
       "    <tr>\n",
       "      <th>3</th>\n",
       "      <td>2022</td>\n",
       "      <td>BROOME</td>\n",
       "      <td>Governor</td>\n",
       "      <td>Outside NYC</td>\n",
       "      <td>Republican</td>\n",
       "      <td>38343</td>\n",
       "    </tr>\n",
       "    <tr>\n",
       "      <th>4</th>\n",
       "      <td>2022</td>\n",
       "      <td>CATTARAUGUS</td>\n",
       "      <td>Governor</td>\n",
       "      <td>Outside NYC</td>\n",
       "      <td>Republican</td>\n",
       "      <td>18265</td>\n",
       "    </tr>\n",
       "    <tr>\n",
       "      <th>...</th>\n",
       "      <td>...</td>\n",
       "      <td>...</td>\n",
       "      <td>...</td>\n",
       "      <td>...</td>\n",
       "      <td>...</td>\n",
       "      <td>...</td>\n",
       "    </tr>\n",
       "    <tr>\n",
       "      <th>3901</th>\n",
       "      <td>1998</td>\n",
       "      <td>WASHINGTON</td>\n",
       "      <td>Governor</td>\n",
       "      <td>Outside NYC</td>\n",
       "      <td>Other</td>\n",
       "      <td>2287</td>\n",
       "    </tr>\n",
       "    <tr>\n",
       "      <th>3902</th>\n",
       "      <td>1998</td>\n",
       "      <td>WAYNE</td>\n",
       "      <td>Governor</td>\n",
       "      <td>Outside NYC</td>\n",
       "      <td>Other</td>\n",
       "      <td>8330</td>\n",
       "    </tr>\n",
       "    <tr>\n",
       "      <th>3903</th>\n",
       "      <td>1998</td>\n",
       "      <td>WESTCHESTER</td>\n",
       "      <td>Governor</td>\n",
       "      <td>Outside NYC</td>\n",
       "      <td>Other</td>\n",
       "      <td>22084</td>\n",
       "    </tr>\n",
       "    <tr>\n",
       "      <th>3904</th>\n",
       "      <td>1998</td>\n",
       "      <td>WYOMING</td>\n",
       "      <td>Governor</td>\n",
       "      <td>Outside NYC</td>\n",
       "      <td>Other</td>\n",
       "      <td>2517</td>\n",
       "    </tr>\n",
       "    <tr>\n",
       "      <th>3905</th>\n",
       "      <td>1998</td>\n",
       "      <td>YATES</td>\n",
       "      <td>Governor</td>\n",
       "      <td>Outside NYC</td>\n",
       "      <td>Other</td>\n",
       "      <td>1524</td>\n",
       "    </tr>\n",
       "  </tbody>\n",
       "</table>\n",
       "<p>3906 rows × 6 columns</p>\n",
       "</div>"
      ],
      "text/plain": [
       "      year       county    office          nyc       party  votes\n",
       "0     2022       ALBANY  Governor  Outside NYC  Republican  47545\n",
       "1     2022     ALLEGANY  Governor  Outside NYC  Republican  11974\n",
       "2     2022        BRONX  Governor          NYC  Republican  44948\n",
       "3     2022       BROOME  Governor  Outside NYC  Republican  38343\n",
       "4     2022  CATTARAUGUS  Governor  Outside NYC  Republican  18265\n",
       "...    ...          ...       ...          ...         ...    ...\n",
       "3901  1998   WASHINGTON  Governor  Outside NYC       Other   2287\n",
       "3902  1998        WAYNE  Governor  Outside NYC       Other   8330\n",
       "3903  1998  WESTCHESTER  Governor  Outside NYC       Other  22084\n",
       "3904  1998      WYOMING  Governor  Outside NYC       Other   2517\n",
       "3905  1998        YATES  Governor  Outside NYC       Other   1524\n",
       "\n",
       "[3906 rows x 6 columns]"
      ]
     },
     "execution_count": 55,
     "metadata": {},
     "output_type": "execute_result"
    }
   ],
   "source": [
    "# load the data\n",
    "df = pd.read_csv('ny_election_results_tidy.csv')\n",
    "df"
   ]
  },
  {
   "cell_type": "markdown",
   "metadata": {},
   "source": [
    "Below is an R cell. The `%%R` at the top of the cell indicates that the code in this cell will be R code."
   ]
  },
  {
   "cell_type": "code",
   "execution_count": 56,
   "metadata": {},
   "outputs": [
    {
     "name": "stdout",
     "output_type": "stream",
     "text": [
      "   year      county   office         nyc      party votes\n",
      "1  2022      ALBANY Governor Outside NYC Republican 47545\n",
      "2  2022    ALLEGANY Governor Outside NYC Republican 11974\n",
      "3  2022       BRONX Governor         NYC Republican 44948\n",
      "4  2022      BROOME Governor Outside NYC Republican 38343\n",
      "5  2022 CATTARAUGUS Governor Outside NYC Republican 18265\n",
      "6  2022      CAYUGA Governor Outside NYC Republican 16725\n",
      "7  2022  CHAUTAUQUA Governor Outside NYC Republican 28268\n",
      "8  2022     CHEMUNG Governor Outside NYC Republican 18364\n",
      "9  2022    CHENANGO Governor Outside NYC Republican 11871\n",
      "10 2022     CLINTON Governor Outside NYC Republican 15590\n"
     ]
    }
   ],
   "source": [
    "%%R \n",
    "\n",
    "df <- read.csv('ny_election_results_tidy.csv')\n",
    "\n",
    "df %>% head(10)"
   ]
  },
  {
   "cell_type": "markdown",
   "metadata": {},
   "source": [
    "## Let's Make A Plot!"
   ]
  },
  {
   "cell_type": "markdown",
   "metadata": {},
   "source": [
    "**🤖 My first prompt to ChatGPT:**\n",
    "\n",
    "I have a CSV file called `ny_election_results_tidy.csv` which contains election results for President, Senate and Governor elections in New York State by county from 1998 to 2022. It has the following columns:\n",
    "\n",
    "- year: the year the election was held\n",
    "- county: a county in New York State\n",
    "- office: Governor, Senate or President\n",
    "- nyc: whether or not the county is in New York City (\"NYC\" or \"Outside NYC\")\n",
    "- party: either Democratic, Republican or Other\n",
    "- votes: the number of votes received\n",
    "\n",
    "I want to write some ggplot code in R to visualize these election results. I want to make a column chart that shows democratic versus republican vote totals across the whole state for each election type. Can you help me?\n",
    "\n",
    "\n"
   ]
  },
  {
   "cell_type": "code",
   "execution_count": 57,
   "metadata": {},
   "outputs": [
    {
     "name": "stdout",
     "output_type": "stream",
     "text": [
      "`summarise()` has grouped output by 'year', 'office'. You can override using\n",
      "the `.groups` argument.\n"
     ]
    },
    {
     "data": {
      "image/png": "[encoded data removed]"
     },
     "metadata": {},
     "output_type": "display_data"
    }
   ],
   "source": [
    "%%R \n",
    "\n",
    "# group by year, office, and party\n",
    "df <- df %>%\n",
    "    group_by(year, office, party) %>%\n",
    "    summarize(votes = sum(votes))\n",
    "\n",
    "# filter out other\n",
    "df <- df %>%\n",
    "    filter(party != 'Other', office !='President')\n",
    "\n",
    "# plot\n",
    "ggplot(df) + \n",
    "    aes(x=year, y=votes, fill=party, alpha=party) +\n",
    "    geom_col(position='dodge') +\n",
    "    facet_wrap(~office, scales='free_y', ncol=1) +\n",
    "    scale_fill_manual(values = c(\"Democratic\" = \"blue\", \"Republican\" = \"red\")) +\n",
    "    theme_minimal() + \n",
    "    theme(\n",
    "        legend.position=\"top\", \n",
    "        panel.grid.minor = element_blank(),\n",
    "        panel.grid.major.x = element_blank(),\n",
    "        strip.text.x = element_text(size=16),\n",
    "    ) +\n",
    "    scale_y_continuous(labels = scales::unit_format(unit = \"M\", scale = 1e-6)) +\n",
    "    scale_x_continuous(breaks = seq(1998, 2022, 2)) +\n",
    "    labs(\n",
    "        title = 'New York usually goes blue, but Republicans did relatively well in 2022',\n",
    "        subtitle = 'Vote totals in New York statewide elections, in millions',\n",
    "        caption = 'Data source: US Election Atlas',\n",
    "        x = '', y='Votes'\n",
    "    )"
   ]
  },
  {
   "cell_type": "code",
   "execution_count": null,
   "metadata": {},
   "outputs": [],
   "source": []
  },
  {
   "cell_type": "code",
   "execution_count": null,
   "metadata": {},
   "outputs": [],
   "source": []
  },
  {
   "cell_type": "code",
   "execution_count": null,
   "metadata": {},
   "outputs": [],
   "source": []
  }
 ],
 "metadata": {
  "kernelspec": {
   "display_name": "Python 3 (ipykernel)",
   "language": "python",
   "name": "python3"
  },
  "language_info": {
   "codemirror_mode": {
    "name": "ipython",
    "version": 3
   },
   "file_extension": ".py",
   "mimetype": "text/x-python",
   "name": "python",
   "nbconvert_exporter": "python",
   "pygments_lexer": "ipython3",
   "version": "3.11.2"
  }
 },
 "nbformat": 4,
 "nbformat_minor": 4
}
